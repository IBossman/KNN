{
  "nbformat": 4,
  "nbformat_minor": 0,
  "metadata": {
    "colab": {
      "provenance": []
    },
    "kernelspec": {
      "name": "python3",
      "display_name": "Python 3"
    },
    "language_info": {
      "name": "python"
    }
  },
  "cells": [
    {
      "cell_type": "code",
      "source": [
        "#KNN классификатор для задачи многоклассовой классификации\n",
        "\n",
        "import numpy as np\n",
        "\n",
        "class KNN_classifier:\n",
        "  def __init__(self, n_neighbors: int, **kwargs):\n",
        "    self.K = n_neighbors\n",
        "\n",
        "  def fit(self, x: np.array, y: np.array):\n",
        "\n",
        "    self.data = x\n",
        "    self.labels = y\n",
        "  pass\n",
        "\n",
        "  def predict(self, x: np.array):\n",
        "    \n",
        "    predictions = []\n",
        "    labeled_distances = []\n",
        "    \n",
        "    for i in range(x.shape[0]):\n",
        "      distances_row = []\n",
        "      for j in range(self.data.shape[0]):\n",
        "        distances_row.append((np.linalg.norm(x[i] - self.data[j]),self.labels[j]))\n",
        "      labeled_distances.append(distances_row)\n",
        "\n",
        "    sorted_lst = []\n",
        "    for i in range(len(labeled_distances)):\n",
        "        sorted_lst.append(list(sorted(labeled_distances[i])))\n",
        "    for i in range(len(sorted_lst)):\n",
        "       labels_count = {}\n",
        "       for el in sorted_lst[i][0:self.K]:\n",
        "         if el[1] in labels_count:\n",
        "           labels_count[el[1]] += 1\n",
        "         else:\n",
        "           labels_count[el[1]] = 1 \n",
        "       predictions.append(max(labels_count, key=labels_count.get))\n",
        "    predictions = np.array(predictions)\n",
        "\n",
        "    return predictions"
      ],
      "metadata": {
        "id": "lrYLUYPGBUeI"
      },
      "execution_count": 307,
      "outputs": []
    },
    {
      "cell_type": "code",
      "source": [
        "X = np.array([[ 0.56510722,  0.68599596, -0.92388505, -0.29546048, -0.12437532],\n",
        "       [-0.79617537,  0.98406791,  1.19542652, -0.05626863, -0.69868076],\n",
        "       [ 0.9629688 , -1.00423925, -0.53842833, -0.23744358,  0.83226685],\n",
        "       [ 0.24671269, -0.41624448,  0.81679337,  1.59227446,  0.16192583],\n",
        "       [-0.36972363,  0.17425997,  1.33668078,  1.16687907,  0.31709134],\n",
        "       [-1.30482844, -0.05354323, -0.88862186, -1.121785  , -0.78442809],\n",
        "       [-0.53975018,  0.90074877, -1.09317408,  1.52989481, -0.43375015],\n",
        "       [-0.64709803, -0.09775791,  1.3506503 , -1.46957788,  1.63325543],\n",
        "       [-0.73858464, -0.60678229,  0.31420272, -0.43100129, -0.37665876],\n",
        "       [-0.29208809, -0.68795722,  0.06586655,  0.9583851 ,  1.70640775]])\n",
        "X"
      ],
      "metadata": {
        "colab": {
          "base_uri": "https://localhost:8080/"
        },
        "id": "XJ2zlkPO_lKL",
        "outputId": "9a5cb151-3900-4846-a079-fe140a368435"
      },
      "execution_count": 308,
      "outputs": [
        {
          "output_type": "execute_result",
          "data": {
            "text/plain": [
              "array([[ 0.56510722,  0.68599596, -0.92388505, -0.29546048, -0.12437532],\n",
              "       [-0.79617537,  0.98406791,  1.19542652, -0.05626863, -0.69868076],\n",
              "       [ 0.9629688 , -1.00423925, -0.53842833, -0.23744358,  0.83226685],\n",
              "       [ 0.24671269, -0.41624448,  0.81679337,  1.59227446,  0.16192583],\n",
              "       [-0.36972363,  0.17425997,  1.33668078,  1.16687907,  0.31709134],\n",
              "       [-1.30482844, -0.05354323, -0.88862186, -1.121785  , -0.78442809],\n",
              "       [-0.53975018,  0.90074877, -1.09317408,  1.52989481, -0.43375015],\n",
              "       [-0.64709803, -0.09775791,  1.3506503 , -1.46957788,  1.63325543],\n",
              "       [-0.73858464, -0.60678229,  0.31420272, -0.43100129, -0.37665876],\n",
              "       [-0.29208809, -0.68795722,  0.06586655,  0.9583851 ,  1.70640775]])"
            ]
          },
          "metadata": {},
          "execution_count": 308
        }
      ]
    },
    {
      "cell_type": "code",
      "source": [
        "y = np.array([1, 0, 0, 1, 0, 1, 0, 1, 0, 1])\n",
        "y"
      ],
      "metadata": {
        "colab": {
          "base_uri": "https://localhost:8080/"
        },
        "id": "W5Dws6L2_m8w",
        "outputId": "33a57c2f-14fd-497a-b8ec-601aa6d4a639"
      },
      "execution_count": 309,
      "outputs": [
        {
          "output_type": "execute_result",
          "data": {
            "text/plain": [
              "array([1, 0, 0, 1, 0, 1, 0, 1, 0, 1])"
            ]
          },
          "metadata": {},
          "execution_count": 309
        }
      ]
    },
    {
      "cell_type": "code",
      "source": [
        "knn = KNN_classifier(n_neighbors=3)"
      ],
      "metadata": {
        "id": "icADSPko_oEh"
      },
      "execution_count": 310,
      "outputs": []
    },
    {
      "cell_type": "code",
      "source": [
        "knn.fit(X, y)"
      ],
      "metadata": {
        "id": "XSNCFpho_tqM"
      },
      "execution_count": 311,
      "outputs": []
    },
    {
      "cell_type": "code",
      "source": [
        "x_test = np.array([[-0.12489725,  0.65791923, -0.73112495,  1.42660225,  1.64728976],\n",
        "       [ 0.01913388, -1.11351208, -0.63244098, -0.98121107,  0.38060892],\n",
        "       [-0.92074931,  1.39812225,  0.39692147,  0.7717827 ,  0.44604002]])\n",
        "x_test"
      ],
      "metadata": {
        "colab": {
          "base_uri": "https://localhost:8080/"
        },
        "id": "u8cnf2ir_4n1",
        "outputId": "393e53ca-b334-4d78-eb0f-3f6e01770638"
      },
      "execution_count": 312,
      "outputs": [
        {
          "output_type": "execute_result",
          "data": {
            "text/plain": [
              "array([[-0.12489725,  0.65791923, -0.73112495,  1.42660225,  1.64728976],\n",
              "       [ 0.01913388, -1.11351208, -0.63244098, -0.98121107,  0.38060892],\n",
              "       [-0.92074931,  1.39812225,  0.39692147,  0.7717827 ,  0.44604002]])"
            ]
          },
          "metadata": {},
          "execution_count": 312
        }
      ]
    },
    {
      "cell_type": "code",
      "source": [
        "knn.predict(x_test)"
      ],
      "metadata": {
        "colab": {
          "base_uri": "https://localhost:8080/"
        },
        "id": "LaSaCBs9_xYM",
        "outputId": "95922e6a-4490-43b8-dee4-62a646b8e591"
      },
      "execution_count": 313,
      "outputs": [
        {
          "output_type": "execute_result",
          "data": {
            "text/plain": [
              "array([1, 0, 0])"
            ]
          },
          "metadata": {},
          "execution_count": 313
        }
      ]
    },
    {
      "cell_type": "code",
      "source": [],
      "metadata": {
        "id": "dXTkSHu3__rY"
      },
      "execution_count": 313,
      "outputs": []
    }
  ]
}